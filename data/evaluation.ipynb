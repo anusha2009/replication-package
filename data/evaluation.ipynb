{
  "nbformat": 4,
  "nbformat_minor": 0,
  "metadata": {
    "colab": {
      "provenance": []
    },
    "kernelspec": {
      "name": "python3",
      "display_name": "Python 3"
    },
    "language_info": {
      "name": "python"
    }
  },
  "cells": [
    {
      "cell_type": "code",
      "execution_count": 20,
      "metadata": {
        "colab": {
          "base_uri": "https://localhost:8080/"
        },
        "id": "qMv4OQFHD_Pe",
        "outputId": "d18f1f4e-3a2d-4cfc-b470-f115ae75df9b"
      },
      "outputs": [
        {
          "output_type": "stream",
          "name": "stdout",
          "text": [
            "Requirement already satisfied: pandas in /usr/local/lib/python3.11/dist-packages (2.2.2)\n",
            "Requirement already satisfied: evaluate in /usr/local/lib/python3.11/dist-packages (0.4.3)\n",
            "Requirement already satisfied: numpy>=1.23.2 in /usr/local/lib/python3.11/dist-packages (from pandas) (2.0.2)\n",
            "Requirement already satisfied: python-dateutil>=2.8.2 in /usr/local/lib/python3.11/dist-packages (from pandas) (2.9.0.post0)\n",
            "Requirement already satisfied: pytz>=2020.1 in /usr/local/lib/python3.11/dist-packages (from pandas) (2025.2)\n",
            "Requirement already satisfied: tzdata>=2022.7 in /usr/local/lib/python3.11/dist-packages (from pandas) (2025.2)\n",
            "Requirement already satisfied: datasets>=2.0.0 in /usr/local/lib/python3.11/dist-packages (from evaluate) (2.14.4)\n",
            "Requirement already satisfied: dill in /usr/local/lib/python3.11/dist-packages (from evaluate) (0.3.7)\n",
            "Requirement already satisfied: requests>=2.19.0 in /usr/local/lib/python3.11/dist-packages (from evaluate) (2.32.3)\n",
            "Requirement already satisfied: tqdm>=4.62.1 in /usr/local/lib/python3.11/dist-packages (from evaluate) (4.67.1)\n",
            "Requirement already satisfied: xxhash in /usr/local/lib/python3.11/dist-packages (from evaluate) (3.5.0)\n",
            "Requirement already satisfied: multiprocess in /usr/local/lib/python3.11/dist-packages (from evaluate) (0.70.15)\n",
            "Requirement already satisfied: fsspec>=2021.05.0 in /usr/local/lib/python3.11/dist-packages (from fsspec[http]>=2021.05.0->evaluate) (2025.3.2)\n",
            "Requirement already satisfied: huggingface-hub>=0.7.0 in /usr/local/lib/python3.11/dist-packages (from evaluate) (0.31.4)\n",
            "Requirement already satisfied: packaging in /usr/local/lib/python3.11/dist-packages (from evaluate) (24.2)\n",
            "Requirement already satisfied: pyarrow>=8.0.0 in /usr/local/lib/python3.11/dist-packages (from datasets>=2.0.0->evaluate) (18.1.0)\n",
            "Requirement already satisfied: aiohttp in /usr/local/lib/python3.11/dist-packages (from datasets>=2.0.0->evaluate) (3.11.15)\n",
            "Requirement already satisfied: pyyaml>=5.1 in /usr/local/lib/python3.11/dist-packages (from datasets>=2.0.0->evaluate) (6.0.2)\n",
            "Requirement already satisfied: filelock in /usr/local/lib/python3.11/dist-packages (from huggingface-hub>=0.7.0->evaluate) (3.18.0)\n",
            "Requirement already satisfied: typing-extensions>=3.7.4.3 in /usr/local/lib/python3.11/dist-packages (from huggingface-hub>=0.7.0->evaluate) (4.13.2)\n",
            "Requirement already satisfied: six>=1.5 in /usr/local/lib/python3.11/dist-packages (from python-dateutil>=2.8.2->pandas) (1.17.0)\n",
            "Requirement already satisfied: charset-normalizer<4,>=2 in /usr/local/lib/python3.11/dist-packages (from requests>=2.19.0->evaluate) (3.4.2)\n",
            "Requirement already satisfied: idna<4,>=2.5 in /usr/local/lib/python3.11/dist-packages (from requests>=2.19.0->evaluate) (3.10)\n",
            "Requirement already satisfied: urllib3<3,>=1.21.1 in /usr/local/lib/python3.11/dist-packages (from requests>=2.19.0->evaluate) (2.4.0)\n",
            "Requirement already satisfied: certifi>=2017.4.17 in /usr/local/lib/python3.11/dist-packages (from requests>=2.19.0->evaluate) (2025.4.26)\n",
            "Requirement already satisfied: aiohappyeyeballs>=2.3.0 in /usr/local/lib/python3.11/dist-packages (from aiohttp->datasets>=2.0.0->evaluate) (2.6.1)\n",
            "Requirement already satisfied: aiosignal>=1.1.2 in /usr/local/lib/python3.11/dist-packages (from aiohttp->datasets>=2.0.0->evaluate) (1.3.2)\n",
            "Requirement already satisfied: attrs>=17.3.0 in /usr/local/lib/python3.11/dist-packages (from aiohttp->datasets>=2.0.0->evaluate) (25.3.0)\n",
            "Requirement already satisfied: frozenlist>=1.1.1 in /usr/local/lib/python3.11/dist-packages (from aiohttp->datasets>=2.0.0->evaluate) (1.6.0)\n",
            "Requirement already satisfied: multidict<7.0,>=4.5 in /usr/local/lib/python3.11/dist-packages (from aiohttp->datasets>=2.0.0->evaluate) (6.4.4)\n",
            "Requirement already satisfied: propcache>=0.2.0 in /usr/local/lib/python3.11/dist-packages (from aiohttp->datasets>=2.0.0->evaluate) (0.3.1)\n",
            "Requirement already satisfied: yarl<2.0,>=1.17.0 in /usr/local/lib/python3.11/dist-packages (from aiohttp->datasets>=2.0.0->evaluate) (1.20.0)\n"
          ]
        }
      ],
      "source": [
        "pip install pandas evaluate"
      ]
    },
    {
      "cell_type": "code",
      "source": [
        "from evaluate import load\n",
        "\n",
        "rouge = load(\"rouge\")\n",
        "bleu = load(\"bleu\")\n",
        "meteor = load(\"meteor\")\n",
        "bertscore = load(\"bertscore\")"
      ],
      "metadata": {
        "colab": {
          "base_uri": "https://localhost:8080/"
        },
        "id": "ckpmDHYQE26S",
        "outputId": "d165233e-62d7-4f2a-f82f-7820be65ae27"
      },
      "execution_count": 21,
      "outputs": [
        {
          "output_type": "stream",
          "name": "stderr",
          "text": [
            "[nltk_data] Downloading package wordnet to /root/nltk_data...\n",
            "[nltk_data]   Package wordnet is already up-to-date!\n",
            "[nltk_data] Downloading package punkt_tab to /root/nltk_data...\n",
            "[nltk_data]   Package punkt_tab is already up-to-date!\n",
            "[nltk_data] Downloading package omw-1.4 to /root/nltk_data...\n",
            "[nltk_data]   Package omw-1.4 is already up-to-date!\n"
          ]
        }
      ]
    },
    {
      "cell_type": "code",
      "source": [
        "import pandas as pd\n",
        "manual_df = pd.read_excel(\"/content/Extraction - Manual.xlsx\", sheet_name=\"Extract Design Decisions - Eval\")\n",
        "llm_df = pd.read_excel(\"/content/Extraction - LLM.xlsx\", sheet_name=\"Design Decisions - Evaluation\")\n"
      ],
      "metadata": {
        "id": "4lCFbtNKE_EY"
      },
      "execution_count": 13,
      "outputs": []
    },
    {
      "cell_type": "code",
      "source": [
        "manual_texts = (manual_df['Design Decisions'].astype(str) + \" \" + manual_df['Description'].astype(str) + \" \" + manual_df['Rationale'].astype(str) + \" \" + manual_df['Rules'].astype(str) + \" \" + manual_df['Constraints'].astype(str) + \" \" + manual_df['Alternative Design Decision-1'].astype(str) + \" \" + manual_df['Rationale-1'].astype(str) + \" \" + manual_df['Alternative Design Decision-2'].astype(str) + \" \" + manual_df['Rationale-2'].astype(str)).tolist()\n",
        "llm_texts = (llm_df['Design Decisions'].astype(str) + \" \" + llm_df['Description'].astype(str) + \" \" + llm_df['Rationale'].astype(str) + \" \" + llm_df['Rules'].astype(str) + \" \" + llm_df['Constraints'].astype(str) + \" \" + llm_df['Alternative Design Decision-1'].astype(str) + \" \" + llm_df['Rationale-1'].astype(str) + \" \" + llm_df['Alternative Design Decision-2'].astype(str) + \" \" + llm_df['Rationale-2'].astype(str)).tolist()\n"
      ],
      "metadata": {
        "id": "9rCAOdI0Gbcx"
      },
      "execution_count": 14,
      "outputs": []
    },
    {
      "cell_type": "code",
      "source": [
        "predictions = llm_texts\n",
        "references = manual_texts"
      ],
      "metadata": {
        "id": "6e8kg6kvkPBA"
      },
      "execution_count": 22,
      "outputs": []
    },
    {
      "cell_type": "code",
      "source": [
        "# ROUGE\n",
        "rouge_result = rouge.compute(predictions=predictions, references=references, use_stemmer=True)\n",
        "print(\"ROUGE-1 F1:\", rouge_result['rouge1'])"
      ],
      "metadata": {
        "colab": {
          "base_uri": "https://localhost:8080/"
        },
        "id": "CZ7KDNVWkWY3",
        "outputId": "e66fdac4-5144-4f7d-f352-333872bfd3f9"
      },
      "execution_count": 23,
      "outputs": [
        {
          "output_type": "stream",
          "name": "stdout",
          "text": [
            "ROUGE-1 F1: 0.43040443991188426\n"
          ]
        }
      ]
    },
    {
      "cell_type": "code",
      "source": [
        "# BLEU\n",
        "bleu_result = bleu.compute(predictions=predictions, references=[[ref] for ref in references])\n",
        "print(\"BLEU:\", bleu_result[\"bleu\"])"
      ],
      "metadata": {
        "colab": {
          "base_uri": "https://localhost:8080/"
        },
        "id": "2RwH0ZpIka-V",
        "outputId": "4030a522-ccdc-4025-d92f-d58435feed65"
      },
      "execution_count": 25,
      "outputs": [
        {
          "output_type": "stream",
          "name": "stdout",
          "text": [
            "BLEU: 0.0738424524300812\n"
          ]
        }
      ]
    },
    {
      "cell_type": "code",
      "source": [
        "# METEOR\n",
        "meteor_result = meteor.compute(predictions=predictions, references=references)\n",
        "print(\"METEOR:\", meteor_result[\"meteor\"])"
      ],
      "metadata": {
        "colab": {
          "base_uri": "https://localhost:8080/"
        },
        "id": "fs8OarKlkj3m",
        "outputId": "7ba3d49b-e5f6-4da3-810d-d566a2bf3f32"
      },
      "execution_count": 26,
      "outputs": [
        {
          "output_type": "stream",
          "name": "stdout",
          "text": [
            "METEOR: 0.2418901652562371\n"
          ]
        }
      ]
    },
    {
      "cell_type": "code",
      "source": [
        "bert_result = bertscore.compute(predictions=predictions, references=references, lang=\"en\")\n",
        "print(\"BERTScore Precision:\", sum(bert_result[\"precision\"]) / len(bert_result[\"precision\"]))\n",
        "print(\"BERTScore Recall:\", sum(bert_result[\"recall\"]) / len(bert_result[\"recall\"]))\n",
        "print(\"BERTScore F1:\", sum(bert_result[\"f1\"]) / len(bert_result[\"f1\"]))"
      ],
      "metadata": {
        "colab": {
          "base_uri": "https://localhost:8080/"
        },
        "id": "L9GlOkMekouA",
        "outputId": "8b592fa2-392d-42e8-fbdf-52bd3ed97912"
      },
      "execution_count": 30,
      "outputs": [
        {
          "output_type": "stream",
          "name": "stdout",
          "text": [
            "BERTScore Precision: 0.8940942618581984\n",
            "BERTScore Recall: 0.8416076103846232\n",
            "BERTScore F1: 0.8668941888544295\n"
          ]
        }
      ]
    },
    {
      "cell_type": "code",
      "source": [
        "manual_df = pd.read_excel(\"/content/Extraction - Manual.xlsx\", sheet_name=\"Extract QA - Evaluation\")\n",
        "llm_df = pd.read_excel(\"/content/Extraction - LLM.xlsx\", sheet_name=\"Quality Attributes - Evaluation\")"
      ],
      "metadata": {
        "id": "HBnOzIg4nOAE"
      },
      "execution_count": 38,
      "outputs": []
    },
    {
      "cell_type": "code",
      "source": [
        "manual_texts = (manual_df['Stimulus source'].astype(str) + \" \" + manual_df['Stimulus '].astype(str) + \" \" + manual_df['Environment'].astype(str) + \" \" + manual_df['Artifact'].astype(str) + \" \" + manual_df['Response'].astype(str) + \" \" + manual_df['Response Measure'].astype(str) + \" \" + manual_df['Quality Attribute'].astype(str) + \" \" + manual_df['Sustainability Dimension'].astype(str)).tolist()\n",
        "llm_texts = (llm_df['Stimulus source'].astype(str) + \" \" + llm_df['Stimulus '].astype(str) + \" \" + llm_df['Environment'].astype(str) + \" \" + llm_df['Artifact'].astype(str) + \" \" + llm_df['Response'].astype(str) + \" \" + llm_df['Response Measure'].astype(str) + \" \" + llm_df['Quality Attribute'].astype(str) + \" \" + llm_df['Description'].astype(str)).tolist()"
      ],
      "metadata": {
        "id": "tKYn1yrjnLLE"
      },
      "execution_count": 39,
      "outputs": []
    },
    {
      "cell_type": "code",
      "source": [
        "predictions = llm_texts\n",
        "references = manual_texts"
      ],
      "metadata": {
        "id": "wmFVyLjuoCHG"
      },
      "execution_count": 40,
      "outputs": []
    },
    {
      "cell_type": "code",
      "source": [
        "# ROUGE\n",
        "rouge_result = rouge.compute(predictions=predictions, references=references, use_stemmer=True)\n",
        "print(\"ROUGE-1 F1:\", rouge_result['rouge1'])"
      ],
      "metadata": {
        "colab": {
          "base_uri": "https://localhost:8080/"
        },
        "id": "GVrpBKZaoEMK",
        "outputId": "71c027e3-7019-46e5-9947-05bd4ce1ab39"
      },
      "execution_count": 41,
      "outputs": [
        {
          "output_type": "stream",
          "name": "stdout",
          "text": [
            "ROUGE-1 F1: 0.3177100682973356\n"
          ]
        }
      ]
    },
    {
      "cell_type": "code",
      "source": [
        "# BLEU\n",
        "bleu_result = bleu.compute(predictions=predictions, references=[[ref] for ref in references])\n",
        "print(\"BLEU:\", bleu_result[\"bleu\"])"
      ],
      "metadata": {
        "colab": {
          "base_uri": "https://localhost:8080/"
        },
        "id": "BSNWuJiWoG7b",
        "outputId": "592c125e-ea33-418a-d3c9-b7e92ebce15a"
      },
      "execution_count": 42,
      "outputs": [
        {
          "output_type": "stream",
          "name": "stdout",
          "text": [
            "BLEU: 0.06264931525485327\n"
          ]
        }
      ]
    },
    {
      "cell_type": "code",
      "source": [
        "# METEOR\n",
        "meteor_result = meteor.compute(predictions=predictions, references=references)\n",
        "print(\"METEOR:\", meteor_result[\"meteor\"])"
      ],
      "metadata": {
        "colab": {
          "base_uri": "https://localhost:8080/"
        },
        "id": "BFOwG_s-oIo_",
        "outputId": "9b7c01ef-d98f-4302-c1df-a2efb2536695"
      },
      "execution_count": 43,
      "outputs": [
        {
          "output_type": "stream",
          "name": "stdout",
          "text": [
            "METEOR: 0.3514082874727629\n"
          ]
        }
      ]
    },
    {
      "cell_type": "code",
      "source": [
        "bert_result = bertscore.compute(predictions=predictions, references=references, lang=\"en\")\n",
        "print(\"BERTScore Precision:\", sum(bert_result[\"precision\"]) / len(bert_result[\"precision\"]))\n",
        "print(\"BERTScore Recall:\", sum(bert_result[\"recall\"]) / len(bert_result[\"recall\"]))\n",
        "print(\"BERTScore F1:\", sum(bert_result[\"f1\"]) / len(bert_result[\"f1\"]))"
      ],
      "metadata": {
        "colab": {
          "base_uri": "https://localhost:8080/"
        },
        "id": "yBRNxO-woLF1",
        "outputId": "9a2e3753-d3e3-46c9-e1c1-dca70bf80f13"
      },
      "execution_count": 44,
      "outputs": [
        {
          "output_type": "stream",
          "name": "stdout",
          "text": [
            "BERTScore Precision: 0.8425436806678772\n",
            "BERTScore Recall: 0.8679180002212524\n",
            "BERTScore F1: 0.8549034833908081\n"
          ]
        }
      ]
    }
  ]
}